{
  "nbformat": 4,
  "nbformat_minor": 0,
  "metadata": {
    "colab": {
      "name": "Adding.ipynb",
      "provenance": []
    },
    "kernelspec": {
      "name": "python3",
      "display_name": "Python 3"
    },
    "language_info": {
      "name": "python"
    }
  },
  "cells": [
    {
      "cell_type": "code",
      "metadata": {
        "id": "qJUGnNj4itFN"
      },
      "source": [
        "record = {'1001': {'Prod_name': 'Frooti', 'Price': 20, 'Quantity': 50, 'B1G1 Offer': 'Yes','Product Type': \"Mango\"},\n",
        " '1002': {'Prod_name': 'Rasna', 'Price': 45, 'Quantity': 15, 'B1G1 Offer': 'Yes','Product Type': \"Guava\"},\n",
        " '1003': {'Prod_name': 'Chocos', 'Price': 80, 'Quantity': 10, 'B1G1 Offer': 'No', 'Product Type': \"Choco\"},\n",
        " '1004': {'Prod_name': 'Maaza', 'Price': 45, 'Quantity': 15, 'B1G1 Offer': 'Yes','Product Type': \"Mango\"},\n",
        " '1005': {'Prod_name': 'Slice', 'Price': 45, 'Quantity': 15, 'B1G1 Offer': 'Yes','Product Type': \"Mango\"},\n",
        " '1006': {'Prod_name': 'Cooking Oil', 'Price': 90, 'Quantity': 15, 'B1G1 Offer': 'No','Product Type': \"Soyabean\"},\n",
        " '1007': {'Prod_name': 'Boost', 'Price': 45, 'Quantity': 15, 'B1G1 Offer': 'No','Product Type': \"Choco\"},\n",
        " '1008': {'Prod_name': 'Colgate', 'Price': 45, 'Quantity': 15, 'B1G1 Offer': 'No','Product Type': \"Active Salt\"},\n",
        " '1009': {'Prod_name': 'Bournvita', 'Price': 45, 'Quantity': 15, 'B1G1 Offer': 'No','Product Type': \"5 Star\"},\n",
        " '1010': {'Prod_name': 'Hajmola', 'Price': 45, 'Quantity': 15, 'B1G1 Offer': 'Yes','Product Type': \"Imli\"}}"
      ],
      "execution_count": 105,
      "outputs": []
    },
    {
      "cell_type": "code",
      "metadata": {
        "id": "kmvUc-hBqBGa"
      },
      "source": [
        "record"
      ],
      "execution_count": null,
      "outputs": []
    },
    {
      "cell_type": "code",
      "metadata": {
        "colab": {
          "base_uri": "https://localhost:8080/",
          "height": 36
        },
        "id": "5gyseyaXqCJ4",
        "outputId": "54915609-33ed-469e-dadf-9961f9d44fe0"
      },
      "source": [
        "record['1001']['Prod_name']"
      ],
      "execution_count": 107,
      "outputs": [
        {
          "output_type": "execute_result",
          "data": {
            "application/vnd.google.colaboratory.intrinsic+json": {
              "type": "string"
            },
            "text/plain": [
              "'Frooti'"
            ]
          },
          "metadata": {},
          "execution_count": 107
        }
      ]
    },
    {
      "cell_type": "code",
      "metadata": {
        "id": "S9rv64PHqIPY"
      },
      "source": [
        "import json\n",
        "import time"
      ],
      "execution_count": 108,
      "outputs": []
    },
    {
      "cell_type": "code",
      "metadata": {
        "id": "aA9hzgxwqvzP"
      },
      "source": [
        "js = json.dumps(record)"
      ],
      "execution_count": 109,
      "outputs": []
    },
    {
      "cell_type": "code",
      "metadata": {
        "colab": {
          "base_uri": "https://localhost:8080/",
          "height": 142
        },
        "id": "PngZPwOOq0dy",
        "outputId": "03075028-235d-491f-fa38-ae1ce1a53d8e"
      },
      "source": [
        "js"
      ],
      "execution_count": 110,
      "outputs": [
        {
          "output_type": "execute_result",
          "data": {
            "application/vnd.google.colaboratory.intrinsic+json": {
              "type": "string"
            },
            "text/plain": [
              "'{\"1001\": {\"Prod_name\": \"Frooti\", \"Price\": 20, \"Quantity\": 50, \"B1G1 Offer\": \"Yes\", \"Product Type\": \"Mango\"}, \"1002\": {\"Prod_name\": \"Rasna\", \"Price\": 45, \"Quantity\": 15, \"B1G1 Offer\": \"Yes\", \"Product Type\": \"Guava\"}, \"1003\": {\"Prod_name\": \"Chocos\", \"Price\": 80, \"Quantity\": 10, \"B1G1 Offer\": \"No\", \"Product Type\": \"Choco\"}, \"1004\": {\"Prod_name\": \"Maaza\", \"Price\": 45, \"Quantity\": 15, \"B1G1 Offer\": \"Yes\", \"Product Type\": \"Mango\"}, \"1005\": {\"Prod_name\": \"Slice\", \"Price\": 45, \"Quantity\": 15, \"B1G1 Offer\": \"Yes\", \"Product Type\": \"Mango\"}, \"1006\": {\"Prod_name\": \"Cooking Oil\", \"Price\": 90, \"Quantity\": 15, \"B1G1 Offer\": \"No\", \"Product Type\": \"Soyabean\"}, \"1007\": {\"Prod_name\": \"Boost\", \"Price\": 45, \"Quantity\": 15, \"B1G1 Offer\": \"No\", \"Product Type\": \"Choco\"}, \"1008\": {\"Prod_name\": \"Colgate\", \"Price\": 45, \"Quantity\": 15, \"B1G1 Offer\": \"No\", \"Product Type\": \"Active Salt\"}, \"1009\": {\"Prod_name\": \"Bournvita\", \"Price\": 45, \"Quantity\": 15, \"B1G1 Offer\": \"No\", \"Product Type\": \"5 Star\"}, \"1010\": {\"Prod_name\": \"Hajmola\", \"Price\": 45, \"Quantity\": 15, \"B1G1 Offer\": \"Yes\", \"Product Type\": \"Imli\"}}'"
            ]
          },
          "metadata": {},
          "execution_count": 110
        }
      ]
    },
    {
      "cell_type": "code",
      "metadata": {
        "id": "0GqoNT5fq5QU"
      },
      "source": [
        "fd = open(\"records.json\", 'w')\n",
        "fd.write(js)\n",
        "fd.close()"
      ],
      "execution_count": 111,
      "outputs": []
    },
    {
      "cell_type": "code",
      "metadata": {
        "id": "PY4dxCtgrF-x"
      },
      "source": [
        "fd = open (\"records.json\",'r')\n",
        "txt = fd.read()\n",
        "fd.close()"
      ],
      "execution_count": 112,
      "outputs": []
    },
    {
      "cell_type": "code",
      "metadata": {
        "id": "5RsuRaAgrvsv"
      },
      "source": [
        "record = json.loads(txt)"
      ],
      "execution_count": 113,
      "outputs": []
    },
    {
      "cell_type": "code",
      "metadata": {
        "colab": {
          "base_uri": "https://localhost:8080/"
        },
        "id": "hrE2uSBFsYCz",
        "outputId": "98f6fc9c-6ddc-4c06-cb75-6cf984bf1448"
      },
      "source": [
        "prod_id = input(\"Enter Product ID:\")\n",
        "prod_name = input(\"Enter Product Name:\")\n",
        "price = int(input(\"Enter Price:\"))\n",
        "quan =  int(input(\"Enter Product avaiable quantity:\"))\n",
        "b1g1 = input(\"Is this under Buy1 Get1 Offer? :\")\n",
        "prod_type = input(\"Enter the product type/flavour:\")\n",
        "record[prod_id] = {'Prod_name': prod_name, 'Price': price, 'Quantity': quan, 'B1G1 Offer': b1g1, 'Product Type' :prod_type}\n",
        "\n",
        "js = json.dumps(record)\n",
        "\n",
        "fd = open(\"records.json\",'w')\n",
        "fd.write(js)\n",
        "fd.close()"
      ],
      "execution_count": 138,
      "outputs": [
        {
          "name": "stdout",
          "output_type": "stream",
          "text": [
            "Enter Product ID:1030\n",
            "Enter Product Name:Banana (4Pcs)\n",
            "Enter Price:20\n",
            "Enter Product avaiable quantity:50\n",
            "Is this under Buy1 Get1 Offer? :No\n",
            "Enter the product type/flavour:Robusta\n"
          ]
        }
      ]
    },
    {
      "cell_type": "code",
      "metadata": {
        "id": "Y8Fqy8EZudgJ"
      },
      "source": [
        "record"
      ],
      "execution_count": null,
      "outputs": []
    }
  ]
}