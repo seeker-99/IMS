{
  "nbformat": 4,
  "nbformat_minor": 0,
  "metadata": {
    "colab": {
      "name": "Purchasing.ipynb",
      "provenance": []
    },
    "kernelspec": {
      "name": "python3",
      "display_name": "Python 3"
    },
    "language_info": {
      "name": "python"
    }
  },
  "cells": [
    {
      "cell_type": "markdown",
      "metadata": {
        "id": "57mjDw9P0yz_"
      },
      "source": [
        "#Load Inventory Data"
      ]
    },
    {
      "cell_type": "code",
      "metadata": {
        "id": "O4V9WuTO0lTh"
      },
      "source": [
        "import json\n",
        "\n",
        "fd = open(\"records.json\",'r')\n",
        "r = fd.read()\n",
        "fd.close()\n",
        "\n",
        "records = json.loads(r)"
      ],
      "execution_count": 101,
      "outputs": []
    },
    {
      "cell_type": "markdown",
      "metadata": {
        "id": "VCYNF3Tk1HcX"
      },
      "source": [
        "#Purchase"
      ]
    },
    {
      "cell_type": "code",
      "metadata": {
        "colab": {
          "base_uri": "https://localhost:8080/"
        },
        "id": "eGZpxf-b0uwZ",
        "outputId": "cc2841ba-a4bf-4728-bab2-485457f51174"
      },
      "source": [
        "ui_prod  = input(\"Enter the product_Id: \")\n",
        "ui_quant = int(input(\"Enter the quantity: \"))\n",
        "ui_type = input(\"Enter the Product Type/Flavour:\")\n",
        "\n",
        "print(\"Product: \", records[ui_prod]['Prod_name'])\n",
        "print(\"Price: \", records[ui_prod]['Price'])\n",
        "\n",
        "if ui_type != records[ui_prod]['Product Type']:\n",
        "  print(\"Sorry, Not Available! :(\") \n",
        "elif ui_quant > records[ui_prod]['Quantity']:\n",
        "  if records[ui_prod]['Quantity'] < 0:\n",
        "    print(\"Sorry Not Available\")\n",
        "  else:  \n",
        "    print(\"Sorry only {}, Avaiable!\".format(records[ui_prod]['Quantity']))\n",
        "else:\n",
        "  if records[ui_prod]['B1G1 Offer'] == 'Yes' and ui_quant % 2 == 0:\n",
        "    billing_amt = records[ui_prod]['Price'] * (ui_quant/2)\n",
        "  elif records[ui_prod]['B1G1 Offer'] == 'Yes' and ui_quant % 2 == 1:\n",
        "    billing_amt = records[ui_prod]['Price'] * ((ui_quant//2)+1)\n",
        "  else:\n",
        "    billing_amt = records[ui_prod]['Price'] * ui_quant\n",
        "  print('Billing Amount:', billing_amt)\n",
        "records[ui_prod]['Quantity'] = records[ui_prod]['Quantity'] - ui_quant"
      ],
      "execution_count": 102,
      "outputs": [
        {
          "output_type": "stream",
          "name": "stdout",
          "text": [
            "Enter the product_Id: 1030\n",
            "Enter the quantity: 2\n",
            "Enter the Product Type/Flavour:Robusta\n",
            "Product:  Banana (4Pcs)\n",
            "Price:  20\n",
            "Billing Amount: 40\n"
          ]
        }
      ]
    },
    {
      "cell_type": "markdown",
      "metadata": {
        "id": "fFuQ0MX01MES"
      },
      "source": [
        "#Inventory update after purchase"
      ]
    },
    {
      "cell_type": "code",
      "metadata": {
        "id": "BtYr8TLt1PeL"
      },
      "source": [
        "js = json.dumps(records)\n",
        "\n",
        "fd = open(\"record.json\",'w')\n",
        "fd.write(js)\n",
        "fd.close()"
      ],
      "execution_count": 103,
      "outputs": []
    },
    {
      "cell_type": "markdown",
      "metadata": {
        "id": "Dg4yz_1h1SR0"
      },
      "source": [
        "#Sales JSON"
      ]
    },
    {
      "cell_type": "code",
      "metadata": {
        "id": "cLbzUAmkKMfS"
      },
      "source": [
        "fd = open(\"sales.json\",'r')\n",
        "txt = fd.read()\n",
        "fd.close()"
      ],
      "execution_count": 107,
      "outputs": []
    },
    {
      "cell_type": "code",
      "metadata": {
        "colab": {
          "base_uri": "https://localhost:8080/",
          "height": 150
        },
        "id": "PfwRa9uBKRy3",
        "outputId": "a9fea939-b511-4888-95c2-7055483bfcee"
      },
      "source": [
        "sales = {1 : {'Prod_name': records[ui_prod]['Prod_name'], 'Price':records[ui_prod]['Price'], 'Quantity': ui_quant, 'B1G1 Offer':records[ui_prod]['B1G1 Offer'], 'Product Type' :ui_type, 'Billing Amount': billing_amt}\n",
        "sales[(len(sales)+1)] = {'Prod_name': records[ui_prod]['Prod_name'], 'Price': records[ui_prod]['Price'], 'Quantity': ui_quant, 'B1G1 Offer':records[ui_prod]['B1G1 Offer'], 'Product Type' :ui_type, 'Billing Amount': billing_amt}\n",
        "sale = json.dumps(sales)\n",
        "\n",
        "fd = open(\"sales.json\",'w')\n",
        "fd.write(sale)\n",
        "fd.close()"
      ],
      "execution_count": 113,
      "outputs": [
        {
          "output_type": "error",
          "ename": "SyntaxError",
          "evalue": "ignored",
          "traceback": [
            "\u001b[0;36m  File \u001b[0;32m\"<ipython-input-113-6c1a25610e5d>\"\u001b[0;36m, line \u001b[0;32m2\u001b[0m\n\u001b[0;31m    sales[(len(sales)+1)] : {'Prod_name': records[ui_prod]['Prod_name'], 'Price': records[ui_prod]['Price'], 'Quantity': ui_quant, 'B1G1 Offer':records[ui_prod]['B1G1 Offer'], 'Product Type' :ui_type, 'Billing Amount': billing_amt}\u001b[0m\n\u001b[0m        ^\u001b[0m\n\u001b[0;31mSyntaxError\u001b[0m\u001b[0;31m:\u001b[0m invalid syntax\n"
          ]
        }
      ]
    },
    {
      "cell_type": "code",
      "metadata": {
        "colab": {
          "base_uri": "https://localhost:8080/"
        },
        "id": "81ye45V3IWNw",
        "outputId": "6655d0d6-fc25-4c84-f9b4-82a3ca0189ff"
      },
      "source": [
        "sales"
      ],
      "execution_count": 109,
      "outputs": [
        {
          "output_type": "execute_result",
          "data": {
            "text/plain": [
              "{1: {'Billing Amount': 80, 'Prod_name': '1030', 'Quantity': 4},\n",
              " 2: {'Billing Amount': 80, 'Prod_name': '1030', 'Quantity': 4},\n",
              " 3: {'Billing Amount': 80, 'Prod_name': '1030', 'Quantity': 4},\n",
              " 4: {'B1G1 Offer': 'No',\n",
              "  'Billing Amount': 80,\n",
              "  'Price': 20,\n",
              "  'Prod_name': 'Banana (4Pcs)',\n",
              "  'Product Type': 'Robusta',\n",
              "  'Quantity': 4},\n",
              " 5: {'B1G1 Offer': 'No',\n",
              "  'Billing Amount': 80,\n",
              "  'Price': 20,\n",
              "  'Prod_name': 'Banana (4Pcs)',\n",
              "  'Product Type': 'Robusta',\n",
              "  'Quantity': 4}}"
            ]
          },
          "metadata": {},
          "execution_count": 109
        }
      ]
    }
  ]
}